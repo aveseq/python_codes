{
 "cells": [
  {
   "cell_type": "markdown",
   "metadata": {},
   "source": [
    "FUNCTION"
   ]
  },
  {
   "cell_type": "code",
   "execution_count": 4,
   "metadata": {},
   "outputs": [
    {
     "name": "stdout",
     "output_type": "stream",
     "text": [
      "10 20 30\n",
      "10 20 30\n",
      "10 20 30\n"
     ]
    }
   ],
   "source": [
    "def f(a,b,c):\n",
    "    print(a,b,c)\n",
    "f(10,20,30)\n",
    "f(a=10,c=30,b=20)\n",
    "f(10,b=20,c=30)"
   ]
  },
  {
   "cell_type": "code",
   "execution_count": 7,
   "metadata": {},
   "outputs": [
    {
     "name": "stdout",
     "output_type": "stream",
     "text": [
      "1 2 3\n",
      "1 5 3\n",
      "1 2 6\n"
     ]
    }
   ],
   "source": [
    "def f(a,b=2,c=3):\n",
    "    print(a,b,c)\n",
    "f(1)\n",
    "f(1,5)\n",
    "f(1,c=6)"
   ]
  },
  {
   "cell_type": "code",
   "execution_count": 12,
   "metadata": {},
   "outputs": [
    {
     "ename": "SyntaxError",
     "evalue": "invalid syntax (Temp/ipykernel_7692/1256501949.py, line 4)",
     "output_type": "error",
     "traceback": [
      "\u001b[1;36m  File \u001b[1;32m\"C:\\Users\\abhis\\AppData\\Local\\Temp/ipykernel_7692/1256501949.py\"\u001b[1;36m, line \u001b[1;32m4\u001b[0m\n\u001b[1;33m    det(21BAI1379,Abhishek,CSE AIML,sub1=10,sub2=10)\u001b[0m\n\u001b[1;37m          ^\u001b[0m\n\u001b[1;31mSyntaxError\u001b[0m\u001b[1;31m:\u001b[0m invalid syntax\n"
     ]
    }
   ],
   "source": [
    "def det(reg_no,name,branch,sub1,sub2):\n",
    "    print(\"Reg_no.: \",reg_no,\"Name: \",name,\"Branch: \",branch,\"Sub1 Marks: \",sub1,\"Sub2 Marks: \",sub2,\"Total=\",sub1+sub2,\"Average=\",(sub1+sub2)/2)\n",
    "    \n",
    "det(21BAI1379,Abhishek,CSE AIML,sub1=10,sub2=10)\n"
   ]
  },
  {
   "cell_type": "code",
   "execution_count": 13,
   "metadata": {},
   "outputs": [
    {
     "name": "stdout",
     "output_type": "stream",
     "text": [
      "(1, 2, 3, 4)\n"
     ]
    }
   ],
   "source": [
    "def f(*args):\n",
    "    print(args)\n",
    "f(1,2,3,4)"
   ]
  },
  {
   "cell_type": "code",
   "execution_count": 16,
   "metadata": {},
   "outputs": [
    {
     "name": "stdout",
     "output_type": "stream",
     "text": [
      "{'a': 1, 'b': 2}\n"
     ]
    }
   ],
   "source": [
    "def f(**args):\n",
    "    print(args)\n",
    "f(a=1,b=2)"
   ]
  },
  {
   "cell_type": "code",
   "execution_count": 17,
   "metadata": {},
   "outputs": [
    {
     "name": "stdout",
     "output_type": "stream",
     "text": [
      "1 (2, 4) {'x': 1, 'y': 2}\n"
     ]
    }
   ],
   "source": [
    "def f(a,*arg,**args):\n",
    "    print(a,arg,args)\n",
    "f(1,2,4,x=1,y=2)"
   ]
  },
  {
   "cell_type": "code",
   "execution_count": 18,
   "metadata": {},
   "outputs": [
    {
     "name": "stdout",
     "output_type": "stream",
     "text": [
      "1 2 3 4\n"
     ]
    }
   ],
   "source": [
    "def f(a,b,c,d):\n",
    "    print(a,b,c,d)\n",
    "args=(1,2)\n",
    "args+=(3,4)\n",
    "f(*args)"
   ]
  },
  {
   "cell_type": "markdown",
   "metadata": {},
   "source": [
    "RECURSIVE FUNCTION"
   ]
  },
  {
   "cell_type": "code",
   "execution_count": 19,
   "metadata": {},
   "outputs": [
    {
     "name": "stdout",
     "output_type": "stream",
     "text": [
      "5\n",
      "4\n",
      "3\n",
      "2\n",
      "1\n",
      "0\n"
     ]
    }
   ],
   "source": [
    "def rfun(n):\n",
    "    print(n)\n",
    "    if n>0:\n",
    "        rfun(n-1)\n",
    "rfun(5)"
   ]
  },
  {
   "cell_type": "code",
   "execution_count": 23,
   "metadata": {},
   "outputs": [
    {
     "data": {
      "text/plain": [
       "120"
      ]
     },
     "execution_count": 23,
     "metadata": {},
     "output_type": "execute_result"
    }
   ],
   "source": [
    "n=int(input())\n",
    "def rf(n):\n",
    "    if n==1:\n",
    "        return 1\n",
    "    else:\n",
    "        return n*rf(n-1)\n",
    "rf(n)"
   ]
  },
  {
   "cell_type": "code",
   "execution_count": null,
   "metadata": {},
   "outputs": [],
   "source": []
  }
 ],
 "metadata": {
  "interpreter": {
   "hash": "d4520ac90ce75c6ff25abfed5dde9b9c6adb94cac5771a65e765be127475d1d2"
  },
  "kernelspec": {
   "display_name": "Python 3.9.6 64-bit",
   "language": "python",
   "name": "python3"
  },
  "language_info": {
   "codemirror_mode": {
    "name": "ipython",
    "version": 3
   },
   "file_extension": ".py",
   "mimetype": "text/x-python",
   "name": "python",
   "nbconvert_exporter": "python",
   "pygments_lexer": "ipython3",
   "version": "3.9.6"
  },
  "orig_nbformat": 4
 },
 "nbformat": 4,
 "nbformat_minor": 2
}
