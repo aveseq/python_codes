{
 "cells": [
  {
   "cell_type": "code",
   "execution_count": 2,
   "metadata": {},
   "outputs": [
    {
     "name": "stdout",
     "output_type": "stream",
     "text": [
      "Hello\n",
      "Good morning\n",
      "Hello\n",
      "Good morning\n"
     ]
    }
   ],
   "source": [
    "def great():\n",
    "    print(\"Hello\")\n",
    "    print(\"Good morning\")\n",
    "#great()\n",
    "for i in range(2):\n",
    "    great()"
   ]
  },
  {
   "cell_type": "code",
   "execution_count": 4,
   "metadata": {},
   "outputs": [
    {
     "name": "stdout",
     "output_type": "stream",
     "text": [
      "12\n"
     ]
    }
   ],
   "source": [
    "def add(x,y):\n",
    "    c=x+y\n",
    "    #print(c)\n",
    "    return(c)\n",
    "#add(4,5)\n",
    "result=add(4,8)\n",
    "print(result)\n"
   ]
  },
  {
   "cell_type": "markdown",
   "metadata": {},
   "source": [
    "ADD & SUB TOGETHER"
   ]
  },
  {
   "cell_type": "code",
   "execution_count": 8,
   "metadata": {},
   "outputs": [
    {
     "name": "stdout",
     "output_type": "stream",
     "text": [
      "Add: 13 Substraction: 5\n"
     ]
    }
   ],
   "source": [
    "x=int(input())\n",
    "y=int(input())\n",
    "def add_sub(x,y):\n",
    "    c=x+y\n",
    "    d=x-y\n",
    "    return c,d\n",
    "res1,res2=add_sub(9,4)\n",
    "print(\"Add:\",res1,\"Substraction:\",res2)"
   ]
  },
  {
   "cell_type": "code",
   "execution_count": 34,
   "metadata": {},
   "outputs": [
    {
     "name": "stdout",
     "output_type": "stream",
     "text": [
      "Even\n"
     ]
    }
   ],
   "source": [
    "n=int(input())\n",
    "def num_check(n):\n",
    "    if n%2==0:\n",
    "        print(\"Even\")\n",
    "    else:\n",
    "        print(\"Odd\")\n",
    "num_check(n)\n",
    "\n",
    "\n",
    "\n"
   ]
  },
  {
   "cell_type": "code",
   "execution_count": 41,
   "metadata": {},
   "outputs": [
    {
     "name": "stdout",
     "output_type": "stream",
     "text": [
      "Even: [2, 4, 6, 8, 10] Odd: [1, 3, 5, 7, 9]\n"
     ]
    }
   ],
   "source": [
    "n=int(input())\n",
    "def check():\n",
    "    even=[]\n",
    "    odd=[]\n",
    "    for i in range(1,n+1):\n",
    "        if i%2==0:\n",
    "            even.append(i)\n",
    "        else:\n",
    "            odd.append(i)\n",
    "    print(\"Even:\",even,\"Odd:\",odd)\n",
    "check()"
   ]
  },
  {
   "cell_type": "code",
   "execution_count": 44,
   "metadata": {},
   "outputs": [
    {
     "data": {
      "text/plain": [
       "100"
      ]
     },
     "execution_count": 44,
     "metadata": {},
     "output_type": "execute_result"
    }
   ],
   "source": [
    "x=99\n",
    "def func(y):\n",
    "    z=x+y\n",
    "    return(z)\n",
    "func(1)"
   ]
  },
  {
   "cell_type": "code",
   "execution_count": 47,
   "metadata": {},
   "outputs": [
    {
     "name": "stdout",
     "output_type": "stream",
     "text": [
      "88\n"
     ]
    }
   ],
   "source": [
    "x=99\n",
    "def func(y):\n",
    "    x=89\n",
    "    z=x+y\n",
    "    return(z)\n",
    "func(1)\n",
    "x=99\n",
    "def f1():\n",
    "    x=88\n",
    "    def f2():\n",
    "        print(x)\n",
    "    f2()\n",
    "f1()"
   ]
  },
  {
   "cell_type": "markdown",
   "metadata": {},
   "source": [
    "AREA OF CIRCLE"
   ]
  },
  {
   "cell_type": "code",
   "execution_count": 55,
   "metadata": {},
   "outputs": [
    {
     "name": "stdout",
     "output_type": "stream",
     "text": [
      "area of the circle: 314.0\n"
     ]
    }
   ],
   "source": [
    "r=float(input(\"Enter the radius of Circle: \"))\n",
    "def area(r):\n",
    "    a=3.14*r*r\n",
    "    #print(\"Area of the circle:\",a)\n",
    "#area(r)\n",
    "    return(a)\n",
    "print(\"area of the circle:\",area(r))\n"
   ]
  },
  {
   "cell_type": "markdown",
   "metadata": {},
   "source": [
    "SIMPLE INTEREST"
   ]
  },
  {
   "cell_type": "code",
   "execution_count": 58,
   "metadata": {},
   "outputs": [
    {
     "name": "stdout",
     "output_type": "stream",
     "text": [
      "SI= 100.0\n"
     ]
    }
   ],
   "source": [
    "p=float(input(\"Enter principle amount:\"))\n",
    "t=float(input(\"Enter time in years:\"))\n",
    "r=float(input(\"Enter rate:\"))\n",
    "def si(p,r,t): #si():\n",
    "    a=p*r*t/100\n",
    " #   print(\"SI=\",a)\n",
    "#si()\n",
    "    return(a)\n",
    "print(si(p,r,t))"
   ]
  },
  {
   "cell_type": "code",
   "execution_count": null,
   "metadata": {},
   "outputs": [],
   "source": []
  }
 ],
 "metadata": {
  "interpreter": {
   "hash": "d4520ac90ce75c6ff25abfed5dde9b9c6adb94cac5771a65e765be127475d1d2"
  },
  "kernelspec": {
   "display_name": "Python 3.9.6 64-bit",
   "language": "python",
   "name": "python3"
  },
  "language_info": {
   "codemirror_mode": {
    "name": "ipython",
    "version": 3
   },
   "file_extension": ".py",
   "mimetype": "text/x-python",
   "name": "python",
   "nbconvert_exporter": "python",
   "pygments_lexer": "ipython3",
   "version": "3.9.6"
  },
  "orig_nbformat": 4
 },
 "nbformat": 4,
 "nbformat_minor": 2
}
