{
 "cells": [
  {
   "cell_type": "markdown",
   "metadata": {},
   "source": [
    "SORTING\n",
    "1.Binary Searching\n",
    "STEP1- sorting"
   ]
  },
  {
   "cell_type": "code",
   "execution_count": null,
   "metadata": {},
   "outputs": [],
   "source": [
    "import time\n",
    "def binary_search(array, x):\n",
    "    low=0\n",
    "    high=len(array)-1\n",
    "    mid=0\n",
    "    while low<=high:\n",
    "        mid=(high+low)//2\n",
    "        print(\"Index Posotions: \",low,\",\",high)\n",
    "        print(\"Mid Point: \",mid)\n",
    "        print()\n",
    "        #if x is greater, ignore left half\n",
    "        if array[mid]<x:\n",
    "            low = mid+1\n",
    "        #if x is smaller, ignore left half\n",
    "        if array[mid]>x:\n",
    "            high=mid-1\n",
    "        #if x is present at mid\n",
    "        else:\n",
    "            return mid\n",
    "        #if we reaach here,\n",
    "        "
   ]
  },
  {
   "cell_type": "code",
   "execution_count": null,
   "metadata": {},
   "outputs": [],
   "source": []
  }
 ],
 "metadata": {
  "interpreter": {
   "hash": "d4520ac90ce75c6ff25abfed5dde9b9c6adb94cac5771a65e765be127475d1d2"
  },
  "kernelspec": {
   "display_name": "Python 3.9.6 64-bit",
   "language": "python",
   "name": "python3"
  },
  "language_info": {
   "codemirror_mode": {
    "name": "ipython",
    "version": 3
   },
   "file_extension": ".py",
   "mimetype": "text/x-python",
   "name": "python",
   "nbconvert_exporter": "python",
   "pygments_lexer": "ipython3",
   "version": "3.9.6"
  },
  "orig_nbformat": 4
 },
 "nbformat": 4,
 "nbformat_minor": 2
}
