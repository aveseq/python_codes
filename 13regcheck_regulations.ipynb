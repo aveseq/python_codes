{
 "cells": [
  {
   "cell_type": "markdown",
   "metadata": {},
   "source": [
    "REGULATIONS\n",
    "REGCHECK"
   ]
  },
  {
   "cell_type": "markdown",
   "metadata": {},
   "source": [
    "REGULAR EXPRESSIONS"
   ]
  },
  {
   "cell_type": "code",
   "execution_count": null,
   "metadata": {},
   "outputs": [],
   "source": [
    "import re\n",
    "register=input()\n",
    "if re.match(\"^[0-9][0-9][a-zA-Z\")\n"
   ]
  },
  {
   "cell_type": "code",
   "execution_count": 2,
   "metadata": {},
   "outputs": [
    {
     "name": "stdout",
     "output_type": "stream",
     "text": [
      "Matched\n"
     ]
    }
   ],
   "source": [
    "import re\n",
    "register=input()\n",
    "if re.match(\"0?[1-9]\",register):\n",
    "    print(\"Matched\")\n",
    "else:\n",
    "    print(\"Not Matched\")"
   ]
  },
  {
   "cell_type": "code",
   "execution_count": 1,
   "metadata": {},
   "outputs": [
    {
     "name": "stdout",
     "output_type": "stream",
     "text": [
      "Matched\n"
     ]
    }
   ],
   "source": [
    "import re\n",
    "register=input()\n",
    "if re.match(\"[a-z][1-9]\",register):\n",
    "    print(\"Matched\")\n",
    "else:\n",
    "    print(\"Not Matched\")"
   ]
  },
  {
   "cell_type": "code",
   "execution_count": 2,
   "metadata": {},
   "outputs": [
    {
     "name": "stdout",
     "output_type": "stream",
     "text": [
      "Not Matched\n"
     ]
    }
   ],
   "source": [
    "import re\n",
    "register=input()\n",
    "if re.match(\"[0-9]{2-4}\",register):\n",
    "    print(\"Matched\")\n",
    "else:\n",
    "    print(\"Not Matched\")\n",
    "    #93"
   ]
  },
  {
   "cell_type": "code",
   "execution_count": 11,
   "metadata": {},
   "outputs": [
    {
     "name": "stdout",
     "output_type": "stream",
     "text": [
      "Matched\n"
     ]
    }
   ],
   "source": [
    "import re\n",
    "register=input()\n",
    "if re.match(\"^[1-9][0-9][a-zA-Z]{3}[0-9]{4}$\",register):\n",
    "    print(\"Matched\")\n",
    "else:\n",
    "    print(\"Not Matched\")\n",
    "#21BAi1479"
   ]
  },
  {
   "cell_type": "code",
   "execution_count": 12,
   "metadata": {},
   "outputs": [
    {
     "name": "stdout",
     "output_type": "stream",
     "text": [
      "Matched\n"
     ]
    }
   ],
   "source": [
    "import re\n",
    "ph_number=input()\n",
    "if re.match(\"[6-9][0-9]{9}\",ph_number):\n",
    "    print(\"Matched\")\n",
    "else:\n",
    "    print(\"Not Matched\")\n",
    "#7667398549"
   ]
  },
  {
   "cell_type": "code",
   "execution_count": 3,
   "metadata": {},
   "outputs": [
    {
     "name": "stdout",
     "output_type": "stream",
     "text": [
      "VALID\n"
     ]
    }
   ],
   "source": [
    "import re\n",
    "pan=input()\n",
    "if re.match(\"[A-Z]{5}[0-9]{4}[A-Z]\",pan):\n",
    "    print(\"VALID\")\n",
    "else:\n",
    "    print(\"INVALID!!\")"
   ]
  },
  {
   "cell_type": "code",
   "execution_count": 7,
   "metadata": {},
   "outputs": [
    {
     "name": "stdout",
     "output_type": "stream",
     "text": [
      "Matched\n"
     ]
    }
   ],
   "source": [
    "import re\n",
    "reg_no=input()\n",
    "if re.match(\"^[1-9][0-9][a-zA-Z]{3}[0-9]{4}$\",reg_no):\n",
    "    print(\"Matched\")\n",
    "else:\n",
    "    print(\"Not Matched\")\n"
   ]
  },
  {
   "cell_type": "code",
   "execution_count": 8,
   "metadata": {},
   "outputs": [
    {
     "name": "stdout",
     "output_type": "stream",
     "text": [
      "VALID ACCOUNT NO.\n"
     ]
    }
   ],
   "source": [
    "import re\n",
    "acc_no=input()\n",
    "if len(acc_no)>15 and len(acc_no)<15:\n",
    "    print(\"INVALID ACCOUNT NO!!\")\n",
    "elif re.match(\"[1-9][0-9]{14}\",acc_no):\n",
    "    print(\"VALID ACCOUNT NO.\")\n",
    "else:\n",
    "    print(\"INVALID ACCOUNT NO!!\")"
   ]
  },
  {
   "cell_type": "code",
   "execution_count": 11,
   "metadata": {},
   "outputs": [
    {
     "name": "stdout",
     "output_type": "stream",
     "text": [
      "VALID IFSC.\n"
     ]
    }
   ],
   "source": [
    "import re\n",
    "ifsc=input()\n",
    "if re.match(\"[a-zA-Z]{4}[0][0]{4}[1-9]{4}\",ifsc):\n",
    "    print(\"VALID IFSC.\")\n",
    "else:\n",
    "    print(\"INVALID IFSC!!\")"
   ]
  },
  {
   "cell_type": "code",
   "execution_count": 17,
   "metadata": {},
   "outputs": [
    {
     "name": "stdout",
     "output_type": "stream",
     "text": [
      "VALID CGPA!!\n"
     ]
    }
   ],
   "source": [
    "import re\n",
    "cgpa=input()\n",
    "if re.match(\"[1-9].[0-9]{1,2}\",cgpa):\n",
    "    print(\"VALID CGPA!!\")\n",
    "else:\n",
    "    print(\"INVALID CGPA!!\")"
   ]
  },
  {
   "cell_type": "code",
   "execution_count": null,
   "metadata": {},
   "outputs": [],
   "source": []
  }
 ],
 "metadata": {
  "interpreter": {
   "hash": "5d5c4959a6c69815b7971fb5f521972c4c3d244ebfd6ec877aaa44c80b9ebb0c"
  },
  "kernelspec": {
   "display_name": "Python 3.8.10 64-bit (windows store)",
   "language": "python",
   "name": "python3"
  },
  "language_info": {
   "codemirror_mode": {
    "name": "ipython",
    "version": 3
   },
   "file_extension": ".py",
   "mimetype": "text/x-python",
   "name": "python",
   "nbconvert_exporter": "python",
   "pygments_lexer": "ipython3",
   "version": "3.8.10"
  },
  "orig_nbformat": 4
 },
 "nbformat": 4,
 "nbformat_minor": 2
}
