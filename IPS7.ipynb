{
 "cells": [
  {
   "cell_type": "code",
   "execution_count": 8,
   "metadata": {},
   "outputs": [
    {
     "name": "stdout",
     "output_type": "stream",
     "text": [
      "['s', 'd', 'n']\n",
      "['BANU', 'JOHN']\n",
      "['s', 'd', 'n', 'BANU', 'JOHN']\n",
      "5\n",
      "['s', 'd', 'SUSANTH', 'n', 'BANU', 'JOHN']\n",
      "['d', 'SUSANTH']\n",
      "['BANU', 'JOHN', 'SUSANTH', 'd', 'n', 's']\n"
     ]
    }
   ],
   "source": [
    "l=[]\n",
    "for i in range(0,3):\n",
    "    name=input()\n",
    "    l.append(name)\n",
    "print(l)\n",
    "names=('BANU','JOHN')\n",
    "L2=list(names)\n",
    "print(L2)\n",
    "L3=l+L2\n",
    "print(L3)\n",
    "print(len(L3))\n",
    "L3.insert(2,'SUSANTH')\n",
    "print(L3)\n",
    "print(L3[1:3])\n",
    "L3.sort()\n",
    "print(L3)"
   ]
  },
  {
   "cell_type": "code",
   "execution_count": 1,
   "metadata": {},
   "outputs": [
    {
     "name": "stdout",
     "output_type": "stream",
     "text": [
      "['BANU', 'JOHN']\n"
     ]
    }
   ],
   "source": []
  },
  {
   "cell_type": "code",
   "execution_count": null,
   "metadata": {},
   "outputs": [],
   "source": []
  }
 ],
 "metadata": {
  "interpreter": {
   "hash": "d4520ac90ce75c6ff25abfed5dde9b9c6adb94cac5771a65e765be127475d1d2"
  },
  "kernelspec": {
   "display_name": "Python 3.9.6 64-bit",
   "language": "python",
   "name": "python3"
  },
  "language_info": {
   "codemirror_mode": {
    "name": "ipython",
    "version": 3
   },
   "file_extension": ".py",
   "mimetype": "text/x-python",
   "name": "python",
   "nbconvert_exporter": "python",
   "pygments_lexer": "ipython3",
   "version": "3.9.6"
  },
  "orig_nbformat": 4
 },
 "nbformat": 4,
 "nbformat_minor": 2
}
