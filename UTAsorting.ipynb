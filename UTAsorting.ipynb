{
 "cells": [
  {
   "cell_type": "markdown",
   "metadata": {},
   "source": [
    "SORTING \n",
    "BUBBLE SORT"
   ]
  },
  {
   "cell_type": "code",
   "execution_count": 2,
   "metadata": {},
   "outputs": [
    {
     "name": "stdout",
     "output_type": "stream",
     "text": [
      "Initial List: \n",
      "[5, 3, 8, 6, 7, 2]\n",
      "Bubble sort in progress..\n",
      "[3, 5, 8, 6, 7, 2]\n",
      "[3, 5, 6, 8, 7, 2]\n",
      "[3, 5, 6, 7, 8, 2]\n",
      "[3, 5, 6, 7, 2, 8]\n",
      "[3, 5, 6, 2, 7, 8]\n",
      "[3, 5, 2, 6, 7, 8]\n",
      "[3, 2, 5, 6, 7, 8]\n",
      "[2, 3, 5, 6, 7, 8]\n",
      "Final list after sorting in ascending order: \n",
      "[2, 3, 5, 6, 7, 8]\n"
     ]
    }
   ],
   "source": [
    "def sort(list):\n",
    "    for i in range(0,len(list)-1):\n",
    "        for j in range(len(list)-1):\n",
    "            if(list[j]>list[j+1]):\n",
    "                temp=list[j]\n",
    "                list[j]=list[j+1]\n",
    "                list[j+1]=temp\n",
    "                print(list)\n",
    "    return list\n",
    "list=[5,3,8,6,7,2]\n",
    "print(\"Initial List: \")\n",
    "print(list)\n",
    "print(\"Bubble sort in progress..\")\n",
    "sorted_list=sort(list)\n",
    "print(\"Final list after sorting in ascending order: \")\n",
    "print(sorted_list)"
   ]
  },
  {
   "cell_type": "code",
   "execution_count": null,
   "metadata": {},
   "outputs": [],
   "source": []
  }
 ],
 "metadata": {
  "interpreter": {
   "hash": "d4520ac90ce75c6ff25abfed5dde9b9c6adb94cac5771a65e765be127475d1d2"
  },
  "kernelspec": {
   "display_name": "Python 3.9.6 64-bit",
   "language": "python",
   "name": "python3"
  },
  "language_info": {
   "codemirror_mode": {
    "name": "ipython",
    "version": 3
   },
   "file_extension": ".py",
   "mimetype": "text/x-python",
   "name": "python",
   "nbconvert_exporter": "python",
   "pygments_lexer": "ipython3",
   "version": "3.9.6"
  },
  "orig_nbformat": 4
 },
 "nbformat": 4,
 "nbformat_minor": 2
}
