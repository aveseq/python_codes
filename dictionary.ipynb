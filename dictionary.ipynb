{
 "cells": [
  {
   "cell_type": "markdown",
   "metadata": {},
   "source": [
    "DITIOCNARIES\n",
    "..MYDICT"
   ]
  },
  {
   "cell_type": "code",
   "execution_count": 4,
   "metadata": {},
   "outputs": [
    {
     "name": "stdout",
     "output_type": "stream",
     "text": [
      "chocolate\n",
      "{1: 'pizza', 2: 'icecream'}\n",
      "{1: 'pizza'}\n",
      "1\n"
     ]
    }
   ],
   "source": [
    "mydict={1:'chocolate',2:'icecream'}\n",
    "print(mydict[1])\n",
    "mydict[1]='pizza'\n",
    "print(mydict)\n",
    "del(mydict[2])\n",
    "print(mydict)\n",
    "a=len(mydict)\n",
    "print(a)"
   ]
  },
  {
   "cell_type": "markdown",
   "metadata": {},
   "source": [
    "..MYCOURSE"
   ]
  },
  {
   "cell_type": "code",
   "execution_count": 14,
   "metadata": {},
   "outputs": [
    {
     "name": "stdout",
     "output_type": "stream",
     "text": [
      "4\n",
      "['ms', 'it', 'cse', 'mca']\n",
      "python\n",
      "{'ms': 'cloudcomputing', 'it': 'c', 'cse': 'c++', 'mca': 'java'}\n",
      "('cloudcomputing', 'c', 'c++', 'java')\n",
      "{'ms': 'cloudcomputing', 'it': 'c', 'cse': 'c++', 'mca': 'java', 'msc': 'data science', 'bsc': 'Maths'}\n",
      "{'ms': 'cloudcomputing', 'cse': 'c++', 'mca': 'java', 'msc': 'data science', 'bsc': 'Maths'}\n"
     ]
    }
   ],
   "source": [
    "mycourse={'ms':'python','it':'c','cse':'c++','mca':'java'}\n",
    "a=len(mycourse)\n",
    "print(a)\n",
    "print(list(mycourse.keys()))\n",
    "print(mycourse['ms'])\n",
    "mycourse['ms']='cloudcomputing'\n",
    "print(mycourse)\n",
    "print(tuple(mycourse.values()))\n",
    "mycourse.update({'msc':'data science','bsc':'Maths'})\n",
    "print(mycourse)\n",
    "mycourse.pop('it')\n",
    "print(mycourse)"
   ]
  },
  {
   "cell_type": "markdown",
   "metadata": {},
   "source": [
    "..JOBS"
   ]
  },
  {
   "cell_type": "code",
   "execution_count": 3,
   "metadata": {},
   "outputs": [
    {
     "name": "stdout",
     "output_type": "stream",
     "text": [
      "['developer', 'manager']\n",
      "{'name': 'bob', 'age': 40.6, 'job': ['developer', 'manager']}\n",
      "{'name': 'bob', 'age': 40.6, 'job': ('asst. manager', 'programmer')}\n",
      "asst. manager\n"
     ]
    }
   ],
   "source": [
    "jobs=[]\n",
    "jobs.append('developer')\n",
    "jobs.append('manager')\n",
    "print(jobs)\n",
    "rec={}\n",
    "rec['name']='bob'\n",
    "rec['age']=40.6\n",
    "rec['job']=jobs\n",
    "print(rec)\n",
    "jobs =()\n",
    "jobs1=('asst. manager','programmer')\n",
    "rec['job']=jobs1\n",
    "print(rec)\n",
    "print(rec['job'][0])\n"
   ]
  },
  {
   "cell_type": "markdown",
   "metadata": {},
   "source": [
    "WE CAN MAKE DICTIONARY USING TUPLES"
   ]
  },
  {
   "cell_type": "code",
   "execution_count": 8,
   "metadata": {},
   "outputs": [
    {
     "name": "stdout",
     "output_type": "stream",
     "text": [
      "{'name': 'bob', 'age': 40}\n",
      "{'name': 'bob', 'age': 40}\n",
      "dict_keys(['name', 'age']) dict_values(['bob', 40])\n"
     ]
    }
   ],
   "source": [
    "a=dict(name='bob',age=40)\n",
    "b=dict([('name','bob'),('age',40)])\n",
    "print(a)\n",
    "print(b)\n",
    "print(b.keys() , b.values())"
   ]
  },
  {
   "cell_type": "code",
   "execution_count": 12,
   "metadata": {},
   "outputs": [
    {
     "name": "stdout",
     "output_type": "stream",
     "text": [
      "{'a': 1, 'b': 2, 'c': 3}\n",
      "{1: 1, 2: 4, 3: 9, 4: 16}\n",
      "{1: 1, 2: 4, 3: 9, 4: 16}\n"
     ]
    }
   ],
   "source": [
    "D={k: v for (k,v) in zip(['a','b','c'],[1,2,3])}\n",
    "print(D)\n",
    "E={x:x**2 for x in [1,2,3,4]}\n",
    "print(E)\n",
    "f={x:x**2 for x in range(1,5)}\n",
    "print(f)"
   ]
  },
  {
   "cell_type": "code",
   "execution_count": 20,
   "metadata": {},
   "outputs": [
    {
     "name": "stdout",
     "output_type": "stream",
     "text": [
      "{'a': [10, 20, 30], 'b': [10, 20, 30], 'c': [10, 20, 30]}\n",
      "{10: 0, 20: 0, 30: 0}\n",
      "dict_items([('a', 0), ('b', 0), ('c', 0)])\n",
      "{10: 0, 20: 0, 30: 0}\n",
      "3\n"
     ]
    }
   ],
   "source": [
    "d=dict.fromkeys(['a','b','c'],0)\n",
    "d1=dict.fromkeys(['a','b','c'],[10,20,30])\n",
    "print(d1)\n",
    "d2={k:0 for k in [10,20,30]}\n",
    "print(d2)\n",
    "print(d.items())\n",
    "print(str(d2))\n",
    "print(len(d2))\n"
   ]
  },
  {
   "cell_type": "markdown",
   "metadata": {},
   "source": [
    "COUNTRY CAPITAL"
   ]
  },
  {
   "cell_type": "code",
   "execution_count": 51,
   "metadata": {},
   "outputs": [
    {
     "name": "stdout",
     "output_type": "stream",
     "text": [
      "Country is not in the list.\n",
      "The capital of the  USA  is  Wasington\n"
     ]
    }
   ],
   "source": [
    "cont={'India':'New Delhi','USA':'Wasington','Germany':'Berlin','Greece':'Athens','Indonesia':'Jakarta','Japan':'Tokyo','Portugal':'Lisbon','Russia':'Moscow'}\n",
    "#print(cont['India'])\n",
    "#print(cont)\n",
    "a=list(cont.keys())\n",
    "b=list(cont.values())\n",
    "\n",
    "name=input('Enter country name to find:')\n",
    "for i in range(len(cont)+1):\n",
    "  if name == a[i]:\n",
    "      print(\"The capital of the \",name,\" is \",b[i])\n",
    "      break\n",
    "  else:\n",
    "      print(\"Country is not in the list.\")\n"
   ]
  },
  {
   "cell_type": "markdown",
   "metadata": {},
   "source": [
    "Find the costliest item from a super market rate table using dictionary. Minimum 5 products /items to be considered.\n",
    "Moreover, print all the products with rate as a table."
   ]
  },
  {
   "cell_type": "code",
   "execution_count": 31,
   "metadata": {},
   "outputs": [
    {
     "name": "stdout",
     "output_type": "stream",
     "text": [
      "50000\n",
      "{'Nokia': 20000, 'samsung': 25000, 'mi': 10000, 'oppo': 30000, 'realme': 15000, 'vivo': 27000, 'iphone': 50000}\n"
     ]
    }
   ],
   "source": [
    "items={'Nokia':20000,'samsung':25000,'mi':10000,'oppo':30000,'realme':15000,'vivo':27000,'iphone':50000}\n",
    "a=items.values()\n",
    "b= max(a)\n",
    "print(b)\n",
    "print(items)\n"
   ]
  },
  {
   "cell_type": "code",
   "execution_count": null,
   "metadata": {},
   "outputs": [],
   "source": []
  },
  {
   "cell_type": "code",
   "execution_count": null,
   "metadata": {},
   "outputs": [],
   "source": []
  },
  {
   "cell_type": "code",
   "execution_count": null,
   "metadata": {},
   "outputs": [],
   "source": []
  }
 ],
 "metadata": {
  "interpreter": {
   "hash": "d4520ac90ce75c6ff25abfed5dde9b9c6adb94cac5771a65e765be127475d1d2"
  },
  "kernelspec": {
   "display_name": "Python 3.9.6 64-bit",
   "language": "python",
   "name": "python3"
  },
  "language_info": {
   "codemirror_mode": {
    "name": "ipython",
    "version": 3
   },
   "file_extension": ".py",
   "mimetype": "text/x-python",
   "name": "python",
   "nbconvert_exporter": "python",
   "pygments_lexer": "ipython3",
   "version": "3.9.6"
  },
  "orig_nbformat": 4
 },
 "nbformat": 4,
 "nbformat_minor": 2
}
